{
 "cells": [
  {
   "cell_type": "markdown",
   "id": "95047e89-bc7c-42e6-a67d-a2b36b6302d3",
   "metadata": {},
   "source": [
    "# Jupyter notebook / Jupyter Labの使い方  \n",
    "\n",
    "Jupyter notebookはIPython (Interactive Python)のwebフロントエンドとして機能するツールです。  \n",
    "Pythonのコードとドキュメントをまとめて扱うことが可能な便利なツールです。  \n",
    "\n",
    "Pythonのコードは\"セル\"毎に小間切れに実行可能で、実行結果(コンソール出力)は実行したセルの直下に表示されます。  \n",
    "Pythonコードを実験的に試しながら実装したり、実行結果を都度確認しながらステップバイステップに実行したりすることが可能なため、機械学習分野でも広く使わているツールです。"
   ]
  },
  {
   "cell_type": "markdown",
   "id": "d3aa1bb2-e761-437b-8cab-1260ff0b2911",
   "metadata": {},
   "source": [
    "セルを実行するには、セルにカーソルを置き(セルをフォーカスし)、CTRL+ENTER、またはSHIFT+ENTERを押します。  \n",
    "- CTRL+ENTER  セルを実行する。セルの移動は起こらない（とどまる）\n",
    "- SHIFT+ENTER  セルを実行する。実行後、次のセルに移動する。  \n",
    "\n",
    "下の３つのセルを任意の順番で実行してみましょう。  \n",
    "- 同じセルを何度も実行することが可能です。\n",
    "- セルを実行した結果は残ります。変数にセットした値などの状態はずっと引き継がれます。\n",
    "- 上のセルに戻ったりして実行しても問題ありません。\n",
    "\n",
    "カーネルリセット(メニュー : Kernel - Reset Kernel)を実行するとすべての状態がリセットされます。"
   ]
  },
  {
   "cell_type": "markdown",
   "id": "58580cc8-f81a-46b9-9fa6-2bf22f5df4c7",
   "metadata": {},
   "source": [
    "セル左側の[ ]内に'`*`'が表示されているときはそのセルが実行中であることを表します。[ ]内の数字はそのセルが実行された順番を表しています。"
   ]
  },
  {
   "cell_type": "code",
   "execution_count": null,
   "id": "f7d0b680-1d7a-4171-88cf-957ec345fdc9",
   "metadata": {},
   "outputs": [],
   "source": [
    "a=0"
   ]
  },
  {
   "cell_type": "code",
   "execution_count": null,
   "id": "07f9d769-ff50-4c1e-b46f-ada5ac59bc2f",
   "metadata": {},
   "outputs": [],
   "source": [
    "print(a)"
   ]
  },
  {
   "cell_type": "code",
   "execution_count": null,
   "id": "820e5e27-00a5-463b-b3a4-c0096be2e1c9",
   "metadata": {},
   "outputs": [],
   "source": [
    "a=a+1\n",
    "print(a)"
   ]
  },
  {
   "cell_type": "markdown",
   "id": "eba97bc8-2806-4920-9601-b13a576475a8",
   "metadata": {},
   "source": [
    "関数も定義可能です。定義された関数は別のセルからでも呼び出すことが可能です。"
   ]
  },
  {
   "cell_type": "code",
   "execution_count": null,
   "id": "e0eecc62-9c8b-4831-9ba8-835ee438a1ce",
   "metadata": {},
   "outputs": [],
   "source": [
    "def foo(input):\n",
    "    return input * 2"
   ]
  },
  {
   "cell_type": "code",
   "execution_count": null,
   "id": "73ec4f01-6fa3-4faf-898c-0e6957e24db0",
   "metadata": {},
   "outputs": [],
   "source": [
    "a = foo(a)\n",
    "print(a)"
   ]
  },
  {
   "cell_type": "markdown",
   "id": "33736269-7145-4f82-9cfe-0437572cf85f",
   "metadata": {},
   "source": [
    "### マジックコマンド / シェルコマンド\n",
    "\n",
    "Jupyter notebookには%や%%で始まる\"マジックコマンド\"が存在します。  \n",
    "`%`で始まるマジックコマンドは１行コマンド。`%%`で始まるマジックコマンドはセル全体に効くコマンドです。  \n",
    "|マジックコマンド|説明|\n",
    "|---|---|\n",
    "|`%%writefile file_name`|対象セルに記述されているテキストをファイルに書き出す(ファイルを作成する)|\n",
    "|`%time command`|`command`の実行時間を計測する|\n",
    "|`%%time`|対象セル全体の実行時間を計測する|\n",
    "|`%timeit command`|`command`の実行時間を計測する。何度か繰り返し`command`を実行し平均時間やジッターなども表示してくれる|\n",
    "|`%%timeit command`|対象セル全体の実行時間を計測する。何度か繰り返しセルを実行し平均時間やジッターなども表示してくれる|\n",
    "|`%cd`|カレントワーキングディレクトリを変更する|\n",
    "|`%pwd`|カレントワーキングディレクトリを表示|\n",
    "\n",
    "また、マジックコマンド以外にシェルコマンドを実行するための'`!`'コマンドもあります。`!`に続けてシェル(コマンドプロンプト)で実行できるコマンドを記述します。"
   ]
  },
  {
   "cell_type": "code",
   "execution_count": null,
   "id": "ebd999e4-e96f-44d7-99ed-bacb6563987d",
   "metadata": {},
   "outputs": [],
   "source": [
    "%%writefile test.txt\n",
    "This is a test text file.\n",
    "The content here will be written to 'test.txt' file."
   ]
  },
  {
   "cell_type": "code",
   "execution_count": null,
   "id": "ee5da118-24b3-4d52-bad1-bfa5e2b34076",
   "metadata": {},
   "outputs": [],
   "source": [
    "%%time\n",
    "# セル全体の実行時間を計測\n",
    "\n",
    "import time\n",
    "for _ in range(10):\n",
    "    time.sleep(0.2)"
   ]
  },
  {
   "cell_type": "code",
   "execution_count": null,
   "id": "3195e701-e9f9-4427-b27d-6a62859a7199",
   "metadata": {},
   "outputs": [],
   "source": [
    "# workload()関数を何度か実行し、平均実行時間やばらつきを計測\n",
    "import time\n",
    "\n",
    "def workload():\n",
    "    time.sleep(0.5)   \n",
    "\n",
    "%timeit workload()"
   ]
  },
  {
   "cell_type": "code",
   "execution_count": null,
   "id": "288b8285-ebc5-49b4-ad57-d15e16eb481e",
   "metadata": {},
   "outputs": [],
   "source": [
    "# `!`を使ったシェルコマンドの実行 (シェルコマンド内でPythonで定義した変数も使用可能)\n",
    "\n",
    "a='Hello, world.'\n",
    "!echo $a $a"
   ]
  },
  {
   "cell_type": "code",
   "execution_count": null,
   "id": "bb2fe820-e503-4229-adbe-ba7bc5a312c6",
   "metadata": {},
   "outputs": [],
   "source": [
    "# `!`シェルコマンドの実行結果(コンソール出力)を変数で受け取ることも可能\n",
    "import os\n",
    "\n",
    "filter = '*.ipynb'\n",
    "if os.name == 'nt':\n",
    "    res = !dir /a $filter\n",
    "else:\n",
    "    res = !ls $filter\n",
    "\n",
    "for i, line in enumerate(res):\n",
    "    print(i, line)"
   ]
  },
  {
   "cell_type": "markdown",
   "id": "8163a463-c25b-4daa-876e-7dd8c2e547ee",
   "metadata": {
    "jp-MarkdownHeadingCollapsed": true
   },
   "source": [
    "!シェルコマンドは１行ごとに子シェルで実行されるので、１行ごとに状態が破棄される(cdなどのシェルの状態を変化させるようなコマンドは効果がない)"
   ]
  },
  {
   "cell_type": "code",
   "execution_count": null,
   "id": "a988a2b5-8db2-49ea-b27c-7f9f6605622f",
   "metadata": {},
   "outputs": [],
   "source": [
    "!mkdir test_dir\n",
    "!cd test_dir\n",
    "!cd\n",
    "# cdでtest_dirに移動したつもりだが、実際にはtest_dir内に移動できていない"
   ]
  },
  {
   "cell_type": "markdown",
   "id": "e7ae45a6-47a2-4aff-991c-8818dd45b42f",
   "metadata": {},
   "source": [
    "一方、マジックコマンドは'`%cd`', '`%pwd`'などjupyterが解釈して実行する(シェル内でコマンドを呼び出しているわけではない)ので、`%cd`でディレクトリを変えたらそれ以降、Jupyter内では別ディレクトリがワークディレクトリとなる点が!コマンドと異なる。"
   ]
  },
  {
   "cell_type": "code",
   "execution_count": null,
   "id": "e3eda5fb-9911-4b86-bd45-131bb1a8dcf5",
   "metadata": {},
   "outputs": [],
   "source": [
    "%mkdir test_dir\n",
    "%cd test_dir\n",
    "%pwd\n",
    "%cd .."
   ]
  },
  {
   "cell_type": "markdown",
   "id": "8d831ded-8961-4f6b-b9c6-acba6ae164d5",
   "metadata": {},
   "source": [
    "### Matplotlibを使用した画像の表示"
   ]
  },
  {
   "cell_type": "code",
   "execution_count": null,
   "id": "ea2fc38d-6a48-4847-8ba9-69317b0af144",
   "metadata": {},
   "outputs": [],
   "source": [
    "import cv2\n",
    "import matplotlib.pyplot as plt\n",
    "\n",
    "img = cv2.imread('beaver.jpg')\n",
    "img = cv2.cvtColor(img, cv2.COLOR_BGR2RGB)\n",
    "plt.imshow(img)\n",
    "plt.show()"
   ]
  },
  {
   "cell_type": "markdown",
   "id": "f6999461-a088-43bf-88ef-9cda6505bbc7",
   "metadata": {},
   "source": [
    "### IPython.displayを使用した画像の表示"
   ]
  },
  {
   "cell_type": "code",
   "execution_count": null,
   "id": "0214f675-3688-4a9a-869c-6a11abd3cca3",
   "metadata": {},
   "outputs": [],
   "source": [
    "import cv2\n",
    "from PIL import Image\n",
    "from IPython.display import display\n",
    "\n",
    "img = cv2.imread('beaver.jpg')\n",
    "img = cv2.cvtColor(img, cv2.COLOR_BGR2RGB)\n",
    "pil_img = Image.fromarray(img)\n",
    "display(pil_img)"
   ]
  },
  {
   "cell_type": "markdown",
   "id": "bb1e3be6-bdc9-4b78-834e-7c8b28e8b854",
   "metadata": {},
   "source": [
    "### IPython.displayを使用したムービーの表示"
   ]
  },
  {
   "cell_type": "code",
   "execution_count": null,
   "id": "b6acd6c2-b48f-4787-b6fd-b6218a8d6d33",
   "metadata": {},
   "outputs": [],
   "source": [
    "from IPython.display import Video\n",
    "\n",
    "Video('people-detection.mp4')"
   ]
  },
  {
   "cell_type": "code",
   "execution_count": null,
   "id": "2524f3b9-52dd-447b-8202-763c908ce420",
   "metadata": {},
   "outputs": [],
   "source": []
  }
 ],
 "metadata": {
  "kernelspec": {
   "display_name": "Python 3 (ipykernel)",
   "language": "python",
   "name": "python3"
  },
  "language_info": {
   "codemirror_mode": {
    "name": "ipython",
    "version": 3
   },
   "file_extension": ".py",
   "mimetype": "text/x-python",
   "name": "python",
   "nbconvert_exporter": "python",
   "pygments_lexer": "ipython3",
   "version": "3.11.1"
  }
 },
 "nbformat": 4,
 "nbformat_minor": 5
}
