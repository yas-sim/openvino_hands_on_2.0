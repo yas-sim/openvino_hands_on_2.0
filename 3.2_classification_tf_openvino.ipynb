{
 "cells": [
  {
   "cell_type": "markdown",
   "metadata": {},
   "source": [
    "## TensorFlowの画像分類モデルを変換してOpenVINOで使う方法を学ぶ\n",
    "\n",
    "このチュートリアルでは先ほどと同様、TensorFlowの画像分類モデルをOpenVINO IRモデルに変換する方法について学びます。"
   ]
  },
  {
   "cell_type": "markdown",
   "metadata": {},
   "source": [
    "## 必要なライブラリのインポート"
   ]
  },
  {
   "cell_type": "code",
   "execution_count": null,
   "metadata": {},
   "outputs": [],
   "source": [
    "import cv2\n",
    "import numpy as np\n",
    "\n",
    "import tensorflow as tf\n",
    "import tensorflow_hub\n",
    "\n",
    "import openvino as ov\n",
    "\n",
    "from PIL import Image\n",
    "from IPython.display import display"
   ]
  },
  {
   "cell_type": "markdown",
   "metadata": {},
   "source": [
    "## TensorFlowの学習済みモデルの読み込み (ダウンロード)\n",
    "\n",
    "学習済みresnet50モデルをTensorFlow hubからダウンロードします。"
   ]
  },
  {
   "cell_type": "code",
   "execution_count": null,
   "metadata": {},
   "outputs": [],
   "source": [
    "tf_model = tensorflow_hub.load(\"https://www.kaggle.com/models/tensorflow/resnet-50/frameworks/TensorFlow2/variations/classification/versions/1\")"
   ]
  },
  {
   "cell_type": "markdown",
   "metadata": {},
   "source": [
    "## PyTorchモデルをOpenVINO IRモデルに変換し、ファイルとして保存する\n",
    "\n",
    "`convert_model()` APIを使用することでモデルを変換することができます。"
   ]
  },
  {
   "cell_type": "code",
   "execution_count": null,
   "metadata": {},
   "outputs": [],
   "source": [
    "ov_model = ov.convert_model(tf_model)\n",
    "ov.save_model(ov_model, 'resnet50tf.xml')"
   ]
  },
  {
   "cell_type": "markdown",
   "metadata": {},
   "source": [
    "## 保存したOpenVINO IRモデルファイルを読み込み、デバイス向けにコンパイルする  \n",
    "\n",
    "先のPyTorchの場合、入力フォーマットが`NCHW` (1,3,224,224)だったのに対して、TensorFlowでは`NHWC` (1,224,224,3)になっていることに注意してください。必ずではありませんが、TensorFlowの場合、`NHWC`のチャネルファーストフォーマットが基本です。"
   ]
  },
  {
   "cell_type": "code",
   "execution_count": null,
   "metadata": {},
   "outputs": [],
   "source": [
    "ov_model = ov.Core().read_model('resnet50tf.xml')\n",
    "print(ov_model.inputs[0])\n",
    "ov_model.reshape((1,224,224,3))\n",
    "print(ov_model.inputs[0])\n",
    "compiled_model = ov.compile_model(ov_model, device_name='CPU')\n",
    "compiled_model"
   ]
  },
  {
   "cell_type": "markdown",
   "metadata": {},
   "source": [
    "## 入力画像の読み込みとプリプロセス"
   ]
  },
  {
   "cell_type": "code",
   "execution_count": null,
   "metadata": {},
   "outputs": [],
   "source": [
    "img = cv2.imread('beaver.jpg')\n",
    "img = cv2.cvtColor(img, cv2.COLOR_BGR2RGB)\n",
    "img = cv2.resize(img, (224,224))\n",
    "display(Image.fromarray(img))\n",
    "img = img.astype(np.float32) / 255.0\n",
    "img = np.expand_dims(img, axis=0)\n",
    "img.shape"
   ]
  },
  {
   "cell_type": "markdown",
   "metadata": {},
   "source": [
    "## OpenVINOで推論実行"
   ]
  },
  {
   "cell_type": "code",
   "execution_count": null,
   "metadata": {},
   "outputs": [],
   "source": [
    "result = compiled_model.infer_new_request(img)\n",
    "result = result[0].ravel()\n",
    "print(result.shape, result[:40])"
   ]
  },
  {
   "cell_type": "markdown",
   "metadata": {},
   "source": [
    "## 推論結果の表示\n",
    "正しい推論結果が出ていることを確認してください。"
   ]
  },
  {
   "cell_type": "code",
   "execution_count": null,
   "metadata": {},
   "outputs": [],
   "source": [
    "with open('synset_words.txt') as f:\n",
    "    imagenet_labels = [ line.rstrip().split(maxsplit=1)[1] for line in f.readlines() ]\n",
    "\n",
    "indices = np.argsort(result)[::-1]\n",
    "\n",
    "for index in indices[:5]:\n",
    "    print(index, imagenet_labels[index], result[index])"
   ]
  },
  {
   "cell_type": "markdown",
   "metadata": {},
   "source": [
    "## まとめ  \n",
    "\n",
    "ここではTensorFlowのResnet50モデルをOpenVINO IRモデルに変換して利用する方法について学びました。  \n",
    "PyTorchのケースと同様、`convert_model()` APIにフレームワーク形式のモデルオブジェクトを渡すだけなので簡単に変換できるのがわかったと思います。  \n",
    "\n",
    "高度なモデルなどのケースでは`convert_model()` APIに様々なオプションを指定してモデルを変換することも可能です。\n",
    "\n",
    "また、TensorFlowとPyTorchでデフォルトの入力データ形式が異なることも覚えておいて下さい。TensorFlowはチャネルファースト`NHWC`、PyTorchは`NCHW`がデフォルトです。OpenVINOはどちらの形式も扱えますが、デフォルトは`NCHW`です。"
   ]
  },
  {
   "cell_type": "code",
   "execution_count": null,
   "metadata": {},
   "outputs": [],
   "source": []
  }
 ],
 "metadata": {
  "kernelspec": {
   "display_name": "Python 3 (ipykernel)",
   "language": "python",
   "name": "python3"
  },
  "language_info": {
   "codemirror_mode": {
    "name": "ipython",
    "version": 3
   },
   "file_extension": ".py",
   "mimetype": "text/x-python",
   "name": "python",
   "nbconvert_exporter": "python",
   "pygments_lexer": "ipython3",
   "version": "3.11.1"
  }
 },
 "nbformat": 4,
 "nbformat_minor": 4
}
