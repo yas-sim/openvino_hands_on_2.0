{
 "cells": [
  {
   "cell_type": "markdown",
   "metadata": {},
   "source": [
    "# 事前準備 - ハンズオン・トレーニングに必要なファイルをダウンロードする"
   ]
  },
  {
   "cell_type": "markdown",
   "metadata": {},
   "source": [
    "## 画像ファイル、ラベルファイルなどをダウンロード"
   ]
  },
  {
   "cell_type": "code",
   "execution_count": null,
   "metadata": {},
   "outputs": [],
   "source": [
    "import urllib.request\n",
    "\n",
    "files = [\n",
    "    [\n",
    "        'https://upload.wikimedia.org/wikipedia/commons/6/64/Beaver-_Steve_Hersey_edit_(16273141142).jpg',\n",
    "        'beaver.jpg'\n",
    "    ],\n",
    "    [\n",
    "        'https://upload.wikimedia.org/wikipedia/commons/e/e4/Cars_in_traffic_in_Auckland,_New_Zealand_-_copyright-free_photo_released_to_public_domain.jpg',\n",
    "        'traffic.jpg'\n",
    "    ],\n",
    "    [\n",
    "        'https://raw.githubusercontent.com/HoldenCaulfieldRye/caffe/master/data/ilsvrc12/synset_words.txt',\n",
    "        'synset_words.txt'\n",
    "    ]\n",
    "]\n",
    "\n",
    "for url, file_name in files:\n",
    "    print(f'Downloading \"{file_name}\" from \"{url}\".')\n",
    "    urllib.request.urlretrieve(url, file_name)\n"
   ]
  },
  {
   "cell_type": "markdown",
   "metadata": {},
   "source": [
    "## Resnet50のモデルをダウンロードし、OpenVINO形式のモデルとして保存 (`resnet50.xml`, `resnet50.bin`)  \n",
    "\n",
    "ここでは詳しいAPIの説明などは行いません。モデルデータの変換方法などはのちのチュートリアルで説明を行います。"
   ]
  },
  {
   "cell_type": "code",
   "execution_count": null,
   "metadata": {},
   "outputs": [],
   "source": [
    "from torchvision import models\n",
    "import openvino as ov\n",
    "\n",
    "pt_model = models.resnet50(weights=models.ResNet50_Weights.DEFAULT, progress=True)\n",
    "\n",
    "ov_model = ov.convert_model(pt_model)\n",
    "ov.save_model(ov_model, 'resnet50.xml', compress_to_fp16=True)\n",
    "\n",
    "!dir resnet50.*"
   ]
  },
  {
   "cell_type": "code",
   "execution_count": null,
   "metadata": {},
   "outputs": [],
   "source": []
  }
 ],
 "metadata": {
  "kernelspec": {
   "display_name": "Python 3 (ipykernel)",
   "language": "python",
   "name": "python3"
  },
  "language_info": {
   "codemirror_mode": {
    "name": "ipython",
    "version": 3
   },
   "file_extension": ".py",
   "mimetype": "text/x-python",
   "name": "python",
   "nbconvert_exporter": "python",
   "pygments_lexer": "ipython3",
   "version": "3.11.1"
  }
 },
 "nbformat": 4,
 "nbformat_minor": 4
}
