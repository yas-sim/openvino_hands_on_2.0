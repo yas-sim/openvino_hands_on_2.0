{
 "cells": [
  {
   "cell_type": "markdown",
   "metadata": {},
   "source": [
    "# ハンズオン・トレーニングに必要なファイルをダウンロードする"
   ]
  },
  {
   "cell_type": "markdown",
   "metadata": {},
   "source": [
    "## 画像ファイル、ラベルファイルなどをダウンロード"
   ]
  },
  {
   "cell_type": "code",
   "execution_count": 1,
   "metadata": {},
   "outputs": [
    {
     "name": "stdout",
     "output_type": "stream",
     "text": [
      "Downloading \"beaver.jpg\" from \"https://upload.wikimedia.org/wikipedia/commons/6/64/Beaver-_Steve_Hersey_edit_(16273141142).jpg\".\n",
      "Downloading \"traffic.jpg\" from \"https://upload.wikimedia.org/wikipedia/commons/e/e4/Cars_in_traffic_in_Auckland,_New_Zealand_-_copyright-free_photo_released_to_public_domain.jpg\".\n",
      "Downloading \"synset_words.txt\" from \"https://raw.githubusercontent.com/HoldenCaulfieldRye/caffe/master/data/ilsvrc12/synset_words.txt\".\n"
     ]
    }
   ],
   "source": [
    "import urllib.request\n",
    "\n",
    "files = [\n",
    "    [\n",
    "        'https://upload.wikimedia.org/wikipedia/commons/6/64/Beaver-_Steve_Hersey_edit_(16273141142).jpg',\n",
    "        'beaver.jpg'\n",
    "    ],\n",
    "    [\n",
    "        'https://upload.wikimedia.org/wikipedia/commons/e/e4/Cars_in_traffic_in_Auckland,_New_Zealand_-_copyright-free_photo_released_to_public_domain.jpg',\n",
    "        'traffic.jpg'\n",
    "    ],\n",
    "    [\n",
    "        'https://raw.githubusercontent.com/HoldenCaulfieldRye/caffe/master/data/ilsvrc12/synset_words.txt',\n",
    "        'synset_words.txt'\n",
    "    ]\n",
    "]\n",
    "\n",
    "for url, file_name in files:\n",
    "    print(f'Downloading \"{file_name}\" from \"{url}\".')\n",
    "    urllib.request.urlretrieve(url, file_name)\n"
   ]
  },
  {
   "cell_type": "markdown",
   "metadata": {},
   "source": [
    "## Resnet50のモデルをダウンロードし、OpenVINO形式のモデルとして保存 (`resnet50.xml`, `resnet50.bin`)"
   ]
  },
  {
   "cell_type": "code",
   "execution_count": 5,
   "metadata": {},
   "outputs": [
    {
     "name": "stdout",
     "output_type": "stream",
     "text": [
      " �h���C�u N �̃{�����[�� ���x���� HDD8TB �ł�\n",
      " �{�����[�� �V���A���ԍ��� F8BF-DFB7 �ł�\n",
      "\n",
      " n:\\work\\openvino_hands_on �̃f�B���N�g��\n",
      "\n",
      "2024/04/04  21:53        51,061,012 resnet50.bin\n",
      "2024/04/04  21:53           226,232 resnet50.xml\n",
      "               2 �̃t�@�C��          51,287,244 �o�C�g\n",
      "               0 �̃f�B���N�g��  3,657,765,904,384 �o�C�g�̋󂫗̈�\n"
     ]
    }
   ],
   "source": [
    "from torchvision import models\n",
    "import openvino as ov\n",
    "\n",
    "pt_model = models.resnet50(weights=models.ResNet50_Weights.DEFAULT, progress=True)\n",
    "\n",
    "ov_model = ov.convert_model(pt_model)\n",
    "ov.save_model(ov_model, 'resnet50.xml')\n",
    "\n",
    "%ls resnet50.*"
   ]
  },
  {
   "cell_type": "code",
   "execution_count": null,
   "metadata": {},
   "outputs": [],
   "source": []
  }
 ],
 "metadata": {
  "kernelspec": {
   "display_name": "venv-ov24.0",
   "language": "python",
   "name": "python3"
  },
  "language_info": {
   "codemirror_mode": {
    "name": "ipython",
    "version": 3
   },
   "file_extension": ".py",
   "mimetype": "text/x-python",
   "name": "python",
   "nbconvert_exporter": "python",
   "pygments_lexer": "ipython3",
   "version": "3.11.1"
  }
 },
 "nbformat": 4,
 "nbformat_minor": 2
}
