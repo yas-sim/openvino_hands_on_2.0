{
 "cells": [
  {
   "cell_type": "code",
   "execution_count": 10,
   "metadata": {},
   "outputs": [
    {
     "name": "stdout",
     "output_type": "stream",
     "text": [
      "Downloading \"beaver.jpg\" from \"https://upload.wikimedia.org/wikipedia/commons/6/64/Beaver-_Steve_Hersey_edit_%2816273141142%29.jpg\".\n",
      "100 %\n",
      "Downloading \"synset_words.txt\" from \"https://raw.githubusercontent.com/HoldenCaulfieldRye/caffe/master/data/ilsvrc12/synset_words.txt\".\n",
      "100 %\n"
     ]
    }
   ],
   "source": [
    "import urllib.request\n",
    "\n",
    "files = [\n",
    "    [\n",
    "        r'https://upload.wikimedia.org/wikipedia/commons/6/64/Beaver-_Steve_Hersey_edit_%2816273141142%29.jpg',\n",
    "        'beaver.jpg'\n",
    "    ],\n",
    "    [\n",
    "        'https://raw.githubusercontent.com/HoldenCaulfieldRye/caffe/master/data/ilsvrc12/synset_words.txt',\n",
    "        'synset_words.txt'\n",
    "    ]\n",
    "]\n",
    "\n",
    "def reporter(num, blk, ttl):\n",
    "    progress = min(100, int((num * blk) / ttl * 100))\n",
    "    print(f'{progress} %', end='\\r')\n",
    "\n",
    "\n",
    "for url, file_name in files:\n",
    "    print(f'Downloading \"{file_name}\" from \"{url}\".')\n",
    "    urllib.request.urlretrieve(url, file_name, reporthook=reporter)\n",
    "    print()\n"
   ]
  },
  {
   "cell_type": "code",
   "execution_count": null,
   "metadata": {},
   "outputs": [],
   "source": []
  }
 ],
 "metadata": {
  "kernelspec": {
   "display_name": "venv-ov24.0",
   "language": "python",
   "name": "python3"
  },
  "language_info": {
   "codemirror_mode": {
    "name": "ipython",
    "version": 3
   },
   "file_extension": ".py",
   "mimetype": "text/x-python",
   "name": "python",
   "nbconvert_exporter": "python",
   "pygments_lexer": "ipython3",
   "version": "3.9.13"
  }
 },
 "nbformat": 4,
 "nbformat_minor": 2
}
