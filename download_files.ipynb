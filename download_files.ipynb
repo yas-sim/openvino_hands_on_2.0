{
 "cells": [
  {
   "cell_type": "code",
   "execution_count": 8,
   "metadata": {},
   "outputs": [
    {
     "name": "stdout",
     "output_type": "stream",
     "text": [
      "Downloading \"beaver.jpg\" from \"https://upload.wikimedia.org/wikipedia/commons/6/64/Beaver-_Steve_Hersey_edit_(16273141142).jpg\".\n",
      "Downloading \"traffic.jpg\" from \"https://upload.wikimedia.org/wikipedia/commons/e/e4/Cars_in_traffic_in_Auckland,_New_Zealand_-_copyright-free_photo_released_to_public_domain.jpg\".\n",
      "Downloading \"synset_words.txt\" from \"https://raw.githubusercontent.com/HoldenCaulfieldRye/caffe/master/data/ilsvrc12/synset_words.txt\".\n"
     ]
    }
   ],
   "source": [
    "import urllib.request\n",
    "\n",
    "files = [\n",
    "    [\n",
    "        'https://upload.wikimedia.org/wikipedia/commons/6/64/Beaver-_Steve_Hersey_edit_(16273141142).jpg',\n",
    "        'beaver.jpg'\n",
    "    ],\n",
    "    [\n",
    "        'https://upload.wikimedia.org/wikipedia/commons/e/e4/Cars_in_traffic_in_Auckland,_New_Zealand_-_copyright-free_photo_released_to_public_domain.jpg',\n",
    "        'traffic.jpg'\n",
    "    ],\n",
    "    [\n",
    "        'https://raw.githubusercontent.com/HoldenCaulfieldRye/caffe/master/data/ilsvrc12/synset_words.txt',\n",
    "        'synset_words.txt'\n",
    "    ]\n",
    "]\n",
    "\n",
    "for url, file_name in files:\n",
    "    print(f'Downloading \"{file_name}\" from \"{url}\".')\n",
    "    urllib.request.urlretrieve(url, file_name)\n"
   ]
  },
  {
   "cell_type": "code",
   "execution_count": null,
   "metadata": {},
   "outputs": [],
   "source": []
  }
 ],
 "metadata": {
  "kernelspec": {
   "display_name": "venv-ov24.0",
   "language": "python",
   "name": "python3"
  },
  "language_info": {
   "codemirror_mode": {
    "name": "ipython",
    "version": 3
   },
   "file_extension": ".py",
   "mimetype": "text/x-python",
   "name": "python",
   "nbconvert_exporter": "python",
   "pygments_lexer": "ipython3",
   "version": "3.11.1"
  }
 },
 "nbformat": 4,
 "nbformat_minor": 2
}
