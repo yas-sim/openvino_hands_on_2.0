{
 "cells": [
  {
   "cell_type": "markdown",
   "metadata": {},
   "source": [
    "# OpenVINO APIの基礎的な使い方を学ぶ  \n",
    "\n",
    "ここではOpenVINO APIを使用して推論を実行するのに最低限必要なAPIとその使用順番などについて学びます。  \n",
    "ダミーデータを用いて推論を実行するので、推論結果そのものに意味はありませんが、OpenVINOを使った推論プログラムの基本骨格を理解してください。"
   ]
  },
  {
   "cell_type": "markdown",
   "metadata": {},
   "source": [
    "## 必要なライブラリを読み込み  \n",
    "\n",
    "ここでは`numpy`と`openvino`を読み込んでいます。"
   ]
  },
  {
   "cell_type": "code",
   "execution_count": null,
   "metadata": {},
   "outputs": [],
   "source": [
    "import numpy as np\n",
    "\n",
    "import openvino as ov"
   ]
  },
  {
   "cell_type": "markdown",
   "metadata": {},
   "source": [
    "## IRモデルファイルの読み込み\n",
    "本来、IRモデルファイルの読み込みに`read_model()`、読み込んだIRモデルを指定デバイス用にコンパイル(最適化)するのに`compile_model()`の２つのAPIを使用するが、`compile_model()`APIの引数にファイル名を指定することでファイルの読み込みからデバイス向け最適化までを１APIで実行可能。\n",
    "```python\n",
    "ov_core = ov.Core()\n",
    "ov_model = ov_core.read_model('resnet50.xml')\n",
    "compiled_model = ov.compile_model(ov_model, 'CPU')\n",
    "```\n",
    "と、\n",
    "```python\n",
    "compiled_model = ov.compile_model('resnet50.xml', device_name='CPU')\n",
    "```\n",
    "は等価です。"
   ]
  },
  {
   "cell_type": "code",
   "execution_count": null,
   "metadata": {},
   "outputs": [],
   "source": [
    "compiled_model = ov.compile_model('resnet50.xml', device_name='CPU')"
   ]
  },
  {
   "cell_type": "markdown",
   "metadata": {},
   "source": [
    "## 推論に使用する入力データを準備\n",
    "\n",
    "ここではダミーデータを用意しています。このチュートリアルの推論結果には意味がありません。"
   ]
  },
  {
   "cell_type": "code",
   "execution_count": null,
   "metadata": {},
   "outputs": [],
   "source": [
    "dummy_input = np.zeros((1, 3, 224, 224))\n",
    "print(dummy_input.shape)"
   ]
  },
  {
   "cell_type": "markdown",
   "metadata": {},
   "source": [
    "## 推論実行  \n",
    "ここでは`infer_new_request()` APIを使用して推論します。OpenVINOで推論をする場合に一番手っ取り早い方法です。  \n",
    "モデルの入力が一つしかない場合は、下記セルのように推論データを引数として渡すだけでよいのですが、モデルの入力が複数ある場合は辞書(dict)形式で与えます。(`model.infer_new_request({'input1':data1, 'input2':data2}`のような感じ)  \n",
    "\n",
    "`%%time`はJupyter notebookの機能です。セル全体の実行時間を計測します。"
   ]
  },
  {
   "cell_type": "code",
   "execution_count": null,
   "metadata": {},
   "outputs": [],
   "source": [
    "%%time\n",
    "result = compiled_model.infer_new_request(dummy_input)"
   ]
  },
  {
   "cell_type": "markdown",
   "metadata": {},
   "source": [
    "## 推論結果へのアクセス方法"
   ]
  },
  {
   "cell_type": "code",
   "execution_count": null,
   "metadata": {},
   "outputs": [],
   "source": [
    "print(compiled_model.outputs)                       # outputsを表示させると出力ノード名とそのプロパティ(シェイプなど)を確認できます\n",
    "print(compiled_model.outputs[0].get_any_name())     # compiled_model.outputsで出力ノードのリストを取得できます。`get_any_name()` APIで出力ノード名を得ることができます。\n",
    "print(result['x.45'].shape)                         # 推論結果はノード名でアクセス可能です\n",
    "print(result[0].shape)                              # インデックス番号で推論結果にアクセスすることもできます"
   ]
  },
  {
   "cell_type": "markdown",
   "metadata": {},
   "source": [
    "## 推論結果の表示  \n",
    "\n",
    "推論結果を表示してみます。  \n",
    "|パラメータ|説明|\n",
    "|---|---|\n",
    "|`names[]`|推論結果出力ノード名のリストです。１つの出力が複数の名前を持っている場合もあります（一つも持っていない場合もあります。その場合はインデックス番号でアクセスします）|\n",
    "|`shape[]`|推論結果のシェイプです。この場合`[?,1000]`なので、推論結果には1,000個のfp32の数値データが出てくることがわかります。|"
   ]
  },
  {
   "cell_type": "code",
   "execution_count": null,
   "metadata": {
    "scrolled": true
   },
   "outputs": [],
   "source": [
    "print(result)"
   ]
  },
  {
   "cell_type": "markdown",
   "metadata": {},
   "source": [
    "## 推論結果へのアクセス  \n",
    "\n",
    "下記のセルのように、推論結果へは出力ノード名でもインデックス番号でもアクセスが可能です。  \n",
    "どちらの手段でも同じ結果が出ることを確認してください。"
   ]
  },
  {
   "cell_type": "code",
   "execution_count": null,
   "metadata": {},
   "outputs": [],
   "source": [
    "pred = result['x.45']     # ノード名でアクセス\n",
    "print(pred.shape)\n",
    "print(pred[0, :50])\n",
    "\n",
    "pred = result[0]          # インデックス番号でアクセス\n",
    "print(pred.shape)\n",
    "print(pred[0, :50])"
   ]
  },
  {
   "cell_type": "markdown",
   "metadata": {},
   "source": [
    "## おわり  \n",
    "\n",
    "これでOpenVINO APIを使用して最低限の推論プログラムを実行する手順を学びました。次からは実際に意味のある推論プログラムを実行しながら、OpenVINOのより詳細な使用方法を学びましょう。"
   ]
  },
  {
   "cell_type": "code",
   "execution_count": null,
   "metadata": {},
   "outputs": [],
   "source": []
  }
 ],
 "metadata": {
  "kernelspec": {
   "display_name": "Python 3 (ipykernel)",
   "language": "python",
   "name": "python3"
  },
  "language_info": {
   "codemirror_mode": {
    "name": "ipython",
    "version": 3
   },
   "file_extension": ".py",
   "mimetype": "text/x-python",
   "name": "python",
   "nbconvert_exporter": "python",
   "pygments_lexer": "ipython3",
   "version": "3.11.1"
  }
 },
 "nbformat": 4,
 "nbformat_minor": 4
}
