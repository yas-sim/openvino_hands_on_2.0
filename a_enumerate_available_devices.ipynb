{
 "cells": [
  {
   "cell_type": "code",
   "execution_count": null,
   "id": "a5e4d733-ae36-46ac-be48-198f1065afdb",
   "metadata": {},
   "outputs": [],
   "source": [
    "import openvino as ov\n",
    "\n",
    "core = ov.Core()"
   ]
  },
  {
   "cell_type": "code",
   "execution_count": null,
   "id": "acbec7ca-403b-4292-a1e4-a5ff9807fdb7",
   "metadata": {},
   "outputs": [],
   "source": [
    "devices = core.available_devices\n",
    "\n",
    "for device in devices:\n",
    "    device_name = core.get_property(device, 'FULL_DEVICE_NAME')\n",
    "    print(f'\"{device}\" : {device_name}')"
   ]
  },
  {
   "cell_type": "code",
   "execution_count": null,
   "id": "f804417c-bd5d-4bd7-9ea6-45c6e9a821c0",
   "metadata": {},
   "outputs": [],
   "source": []
  }
 ],
 "metadata": {
  "kernelspec": {
   "display_name": "Python 3 (ipykernel)",
   "language": "python",
   "name": "python3"
  },
  "language_info": {
   "codemirror_mode": {
    "name": "ipython",
    "version": 3
   },
   "file_extension": ".py",
   "mimetype": "text/x-python",
   "name": "python",
   "nbconvert_exporter": "python",
   "pygments_lexer": "ipython3",
   "version": "3.11.1"
  }
 },
 "nbformat": 4,
 "nbformat_minor": 5
}
